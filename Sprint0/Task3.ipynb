{
 "cells": [
  {
   "cell_type": "markdown",
   "metadata": {},
   "source": [
    "<h1 style=\"color:DodgerBlue\">Индивидальный проект</h1>"
   ]
  },
  {
   "cell_type": "markdown",
   "metadata": {},
   "source": [
    "<h2 style=\"color:DodgerBlue\">Название проекта:</h2>\n",
    "\n",
    "----\n",
    "\n",
    "### Вариант задания 23\n"
   ]
  },
  {
   "cell_type": "markdown",
   "metadata": {},
   "source": [
    "<h2 style=\"color:DodgerBlue\">Описание проекта:</h2>\n",
    "\n",
    "----\n",
    "\n",
    "Создать базовый класс Task в C#, который будет представлять задачи внутри\n",
    "проекта. На основе этого класса разработать 2-3 производных класса,\n",
    "демонстрирующих принципы наследования и полиморфизма. В каждом из классов\n",
    "должны быть реализованы новые атрибуты и методы, а также переопределены\n",
    "некоторые методы базового класса для демонстрации полиморфизма\n"
   ]
  },
  {
   "cell_type": "markdown",
   "metadata": {},
   "source": [
    "<h2 style=\"color:DodgerBlue\">Реализация:</h2>\n",
    "\n",
    "----"
   ]
  },
  {
   "cell_type": "code",
   "execution_count": null,
   "metadata": {
    "dotnet_interactive": {
     "language": "csharp"
    },
    "polyglot_notebook": {
     "kernelName": "csharp"
    }
   },
   "outputs": [
    {
     "name": "stdout",
     "output_type": "stream",
     "text": [
      "ID: 1, Название: Обычная задача, Приоритет: Низкий, Выполнена: False, Назначена: Не назначено\n",
      "Задача 'Обычная задача' переназначена на Иван.\n",
      "Задача 'Обычная задача' выполнена\n",
      "\n",
      "ID: 2, Название: Сделать отчёт, Приоритет: Высокий, Выполнена: False, Назначена: Не назначено\n",
      "Задача 'Сделать отчёт' переназначена на Анна.\n",
      "Задача 'Сделать отчёт' выполнена\n",
      "Дата выполнения задачи: 9/7/2025, срок: 9/10/2025\n"
     ]
    }
   ],
   "source": [
    "using System;\n",
    "\n",
    "public class Task \n",
    "{\n",
    "    public int TaskId { get; set; }\n",
    "    public string TaskName { get; set; }\n",
    "    public string Priority { get; set; }\n",
    "\n",
    "    public bool IsCompleted { get; private set; }\n",
    "    public string AssignedTo { get; private set; }\n",
    "\n",
    "    public Task(int taskId, string taskName, string priority) \n",
    "    {\n",
    "        TaskId = taskId;\n",
    "        TaskName = taskName;\n",
    "        Priority = priority;\n",
    "        AssignedTo = \"Не назначено\";\n",
    "    }\n",
    "\n",
    "    public virtual void MarkAsComplete() \n",
    "    {\n",
    "        IsCompleted = true;\n",
    "        Console.WriteLine($\"Задача '{TaskName}' выполнена\");\n",
    "    }\n",
    "\n",
    "    public virtual void GetTaskDetails() \n",
    "    {\n",
    "        Console.WriteLine($\"ID: {TaskId}, Название: {TaskName}, Приоритет: {Priority}, Выполнена: {IsCompleted}, Назначена: {AssignedTo}\");\n",
    "    }\n",
    "\n",
    "    public virtual void ReassignTo(string newMember)\n",
    "    {\n",
    "        AssignedTo = newMember;\n",
    "        Console.WriteLine($\"Задача '{TaskName}' переназначена на {AssignedTo}.\");\n",
    "    }\n",
    "}\n",
    "\n",
    "public class DelegateTask : Task\n",
    "{\n",
    "    public DateTime DueDate { get; set; }\n",
    "\n",
    "    public DelegateTask(int taskId, string taskName, string priority, DateTime dueDate)\n",
    "        : base(taskId, taskName, priority)\n",
    "    {\n",
    "        DueDate = dueDate;\n",
    "    }\n",
    "\n",
    "    public override void MarkAsComplete()\n",
    "    {\n",
    "        base.MarkAsComplete();\n",
    "        Console.WriteLine($\"Дата выполнения задачи: {DateTime.Now.ToShortDateString()}, срок: {DueDate.ToShortDateString()}\");\n",
    "    }\n",
    "}\n",
    "public class TeamTask : Task\n",
    "{\n",
    "\n",
    "}\n",
    "public class ResearchTask : Task\n",
    "{\n",
    "}\n",
    "\n",
    "\n",
    "Task task1 = new Task(1, \"Обычная задача\", \"Низкий\");\n",
    "task1.GetTaskDetails();\n",
    "task1.ReassignTo(\"Иван\");\n",
    "task1.MarkAsComplete();\n",
    "\n",
    "Console.WriteLine();\n",
    "\n",
    "DelegateTask task2 = new DelegateTask(2, \"Сделать отчёт\", \"Высокий\", DateTime.Now.AddDays(3));\n",
    "task2.GetTaskDetails();\n",
    "task2.ReassignTo(\"Анна\");\n",
    "task2.MarkAsComplete();\n"
   ]
  }
 ],
 "metadata": {
  "kernelspec": {
   "display_name": ".NET (C#)",
   "language": "C#",
   "name": ".net-csharp"
  },
  "polyglot_notebook": {
   "kernelInfo": {
    "defaultKernelName": "csharp",
    "items": [
     {
      "aliases": [],
      "languageName": "csharp",
      "name": "csharp"
     }
    ]
   }
  }
 },
 "nbformat": 4,
 "nbformat_minor": 2
}
