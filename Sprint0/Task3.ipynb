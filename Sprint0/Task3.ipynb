{
 "cells": [
  {
   "cell_type": "markdown",
   "metadata": {},
   "source": [
    "<h1 style=\"color:DodgerBlue\">Индивидальный проект</h1>"
   ]
  },
  {
   "cell_type": "markdown",
   "metadata": {},
   "source": [
    "<h2 style=\"color:DodgerBlue\">Название проекта:</h2>\n",
    "\n",
    "----\n",
    "\n",
    "### Вариант задания 23\n"
   ]
  },
  {
   "cell_type": "markdown",
   "metadata": {},
   "source": [
    "<h2 style=\"color:DodgerBlue\">Описание проекта:</h2>\n",
    "\n",
    "----\n",
    "\n",
    "Создать базовый класс Task в C#, который будет представлять задачи внутри\n",
    "проекта. На основе этого класса разработать 2-3 производных класса,\n",
    "демонстрирующих принципы наследования и полиморфизма. В каждом из классов\n",
    "должны быть реализованы новые атрибуты и методы, а также переопределены\n",
    "некоторые методы базового класса для демонстрации полиморфизма\n"
   ]
  },
  {
   "cell_type": "markdown",
   "metadata": {},
   "source": [
    "<h2 style=\"color:DodgerBlue\">Реализация:</h2>\n",
    "\n",
    "----"
   ]
  },
  {
   "cell_type": "code",
   "execution_count": null,
   "metadata": {
    "dotnet_interactive": {
     "language": "csharp"
    },
    "polyglot_notebook": {
     "kernelName": "csharp"
    }
   },
   "outputs": [],
   "source": [
    "using System;\n",
    "public class Task \n",
    "{\n",
    "    public int TaskId {get; set;}\n",
    "    public string TaskName {get;set;}\n",
    "    public string Priority {get;set;}\n",
    "\n",
    "    public bool IsCompleted {get; private set;}\n",
    "    public string AssignedTo {get; private set;}\n",
    "     public Task (int taskId, string taskName, string priority) \n",
    "     {\n",
    "        TaskId=taskId;\n",
    "        TaskName=taskName;\n",
    "        Priority=priority;\n",
    "        AssignedTo=\"Не назначено\";\n",
    "     }\n",
    "    public virtual void MarkAsComplete() \n",
    "    {\n",
    "        IsCompleted=true;\n",
    "        Console.WriteLine($\"Задача '{TaskName}' выполнена\");\n",
    "    }\n",
    "    public virtual void GetTaskDetails() \n",
    "    {\n",
    "        Console.WriteLine($\"ID:{TaskId}, Название: {TaskName}, Приоритет: {Priority}, Выполнена: {IsCompleted}, Назначена: {AssignedTo}\")\n",
    "    }\n",
    "    public virtual void ReassignTo(string newMember)\n",
    "    {\n",
    "        AssignedTo = newMember;\n",
    "        Console.WriteLine($\"Задача '{TaskName}' переназначена на {AssignedTo}.\");\n",
    "    }\n",
    "}\n",
    "public class DelegateTask : Task\n",
    "{\n",
    "    public DateTime DueDate { get; set; }\n",
    "\n",
    "    public DelegateTask(int taskId, string taskName, string priority, DateTime dueDate)\n",
    "        : base(taskId, taskName, priority)\n",
    "    {\n",
    "        DueDate = dueDate;\n",
    "    }\n",
    "\n",
    "    public override void MarkAsComplete()\n",
    "    {\n",
    "        base.MarkAsComplete();\n",
    "        Console.WriteLine($\"Дата выполнения задачи: {DateTime.Now.ToShortDateString()}, срок: {DueDate.ToShortDateString()}\");\n",
    "    }\n",
    "}\n",
    "public class TeamTask: Task \n",
    "{\n",
    "\n",
    "}\n",
    "public class ResearchTask : Task \n",
    "{\n",
    "\n",
    "}"
   ]
  }
 ],
 "metadata": {
  "kernelspec": {
   "display_name": ".NET (C#)",
   "language": "C#",
   "name": ".net-csharp"
  },
  "polyglot_notebook": {
   "kernelInfo": {
    "defaultKernelName": "csharp",
    "items": [
     {
      "aliases": [],
      "languageName": "csharp",
      "name": "csharp"
     }
    ]
   }
  }
 },
 "nbformat": 4,
 "nbformat_minor": 2
}
